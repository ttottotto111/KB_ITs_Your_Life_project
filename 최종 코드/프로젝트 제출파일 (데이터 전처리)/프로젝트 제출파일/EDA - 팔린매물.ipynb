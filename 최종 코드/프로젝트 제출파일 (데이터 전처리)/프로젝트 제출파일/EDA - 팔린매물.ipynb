{
 "cells": [
  {
   "cell_type": "code",
   "execution_count": 1,
   "id": "a15538c1",
   "metadata": {},
   "outputs": [],
   "source": [
    "import pandas as pd\n",
    "import numpy as np\n",
    "import seaborn as sns\n",
    "import matplotlib.pyplot as plt\n",
    "\n",
    "plt.rcParams['font.family'] = 'AppleGothic' # 한글 폰트 설정\n",
    "plt.rc('font', size=8)\n",
    "plt.rcParams['figure.figsize'] = (15, 10) # 그래프 크기 설정"
   ]
  },
  {
   "cell_type": "code",
   "execution_count": 2,
   "id": "7b517a98",
   "metadata": {},
   "outputs": [],
   "source": [
    "df=pd.read_csv('./팔린데이터최종본_cp.csv',encoding='cp949')"
   ]
  },
  {
   "cell_type": "code",
   "execution_count": 3,
   "id": "3b3ffc66",
   "metadata": {},
   "outputs": [],
   "source": [
    "df=df.drop('Unnamed: 0',axis=1)"
   ]
  },
  {
   "cell_type": "code",
   "execution_count": 4,
   "id": "1178e60a",
   "metadata": {},
   "outputs": [],
   "source": [
    "df['판매일']=pd.to_datetime(df['판매일'])"
   ]
  },
  {
   "cell_type": "code",
   "execution_count": 5,
   "id": "b81b7cef",
   "metadata": {},
   "outputs": [
    {
     "data": {
      "text/html": [
       "<div>\n",
       "<style scoped>\n",
       "    .dataframe tbody tr th:only-of-type {\n",
       "        vertical-align: middle;\n",
       "    }\n",
       "\n",
       "    .dataframe tbody tr th {\n",
       "        vertical-align: top;\n",
       "    }\n",
       "\n",
       "    .dataframe thead th {\n",
       "        text-align: right;\n",
       "    }\n",
       "</style>\n",
       "<table border=\"1\" class=\"dataframe\">\n",
       "  <thead>\n",
       "    <tr style=\"text-align: right;\">\n",
       "      <th></th>\n",
       "      <th>판매일</th>\n",
       "      <th>기간</th>\n",
       "      <th>차량/세부모델</th>\n",
       "      <th>미션</th>\n",
       "      <th>연식</th>\n",
       "      <th>연료</th>\n",
       "      <th>주행거리</th>\n",
       "      <th>색상</th>\n",
       "      <th>가격</th>\n",
       "      <th>차종</th>\n",
       "    </tr>\n",
       "  </thead>\n",
       "  <tbody>\n",
       "    <tr>\n",
       "      <th>0</th>\n",
       "      <td>2021-05-01</td>\n",
       "      <td>152</td>\n",
       "      <td>[현대]그랜저HG HG300 EXCLUSIVE [무]</td>\n",
       "      <td>오토</td>\n",
       "      <td>2013</td>\n",
       "      <td>휘발유</td>\n",
       "      <td>192814</td>\n",
       "      <td>흰색</td>\n",
       "      <td>880</td>\n",
       "      <td>그랜저</td>\n",
       "    </tr>\n",
       "    <tr>\n",
       "      <th>1</th>\n",
       "      <td>2021-05-01</td>\n",
       "      <td>67</td>\n",
       "      <td>[벤츠]E-클래스(W213) E300 4MATIC 아방가르드</td>\n",
       "      <td>오토</td>\n",
       "      <td>2018</td>\n",
       "      <td>휘발유</td>\n",
       "      <td>16589</td>\n",
       "      <td>흰색</td>\n",
       "      <td>5450</td>\n",
       "      <td>E-클래스</td>\n",
       "    </tr>\n",
       "    <tr>\n",
       "      <th>2</th>\n",
       "      <td>2021-05-01</td>\n",
       "      <td>47</td>\n",
       "      <td>[재규어]뉴XF 3.0 D 프리미엄 [무]</td>\n",
       "      <td>오토</td>\n",
       "      <td>2012</td>\n",
       "      <td>경유</td>\n",
       "      <td>180000</td>\n",
       "      <td>흰색</td>\n",
       "      <td>920</td>\n",
       "      <td>XF</td>\n",
       "    </tr>\n",
       "    <tr>\n",
       "      <th>3</th>\n",
       "      <td>2021-05-01</td>\n",
       "      <td>47</td>\n",
       "      <td>[현대]그랜저IG 2.2 VGT 프리미엄</td>\n",
       "      <td>오토</td>\n",
       "      <td>2017</td>\n",
       "      <td>경유</td>\n",
       "      <td>98092</td>\n",
       "      <td>검정색</td>\n",
       "      <td>9999</td>\n",
       "      <td>그랜저</td>\n",
       "    </tr>\n",
       "    <tr>\n",
       "      <th>4</th>\n",
       "      <td>2021-05-01</td>\n",
       "      <td>46</td>\n",
       "      <td>[쌍용]체어맨H 뉴클래식 500S 최고급형 [무]</td>\n",
       "      <td>오토</td>\n",
       "      <td>2011</td>\n",
       "      <td>휘발유</td>\n",
       "      <td>145253</td>\n",
       "      <td>검정색</td>\n",
       "      <td>390</td>\n",
       "      <td>체어맨</td>\n",
       "    </tr>\n",
       "    <tr>\n",
       "      <th>...</th>\n",
       "      <td>...</td>\n",
       "      <td>...</td>\n",
       "      <td>...</td>\n",
       "      <td>...</td>\n",
       "      <td>...</td>\n",
       "      <td>...</td>\n",
       "      <td>...</td>\n",
       "      <td>...</td>\n",
       "      <td>...</td>\n",
       "      <td>...</td>\n",
       "    </tr>\n",
       "    <tr>\n",
       "      <th>67111</th>\n",
       "      <td>2022-05-09</td>\n",
       "      <td>24</td>\n",
       "      <td>뉴쏘렌토 2WD 2.5 VGT</td>\n",
       "      <td>오토</td>\n",
       "      <td>2008</td>\n",
       "      <td>경유</td>\n",
       "      <td>224271</td>\n",
       "      <td>검정투톤</td>\n",
       "      <td>220</td>\n",
       "      <td>쏘렌토</td>\n",
       "    </tr>\n",
       "    <tr>\n",
       "      <th>67112</th>\n",
       "      <td>2022-05-09</td>\n",
       "      <td>24</td>\n",
       "      <td>더뉴트랙스 1.4 LT 코어</td>\n",
       "      <td>오토</td>\n",
       "      <td>2019</td>\n",
       "      <td>휘발유</td>\n",
       "      <td>41000</td>\n",
       "      <td>흰색</td>\n",
       "      <td>1390</td>\n",
       "      <td>트랙스</td>\n",
       "    </tr>\n",
       "    <tr>\n",
       "      <th>67113</th>\n",
       "      <td>2022-05-09</td>\n",
       "      <td>17</td>\n",
       "      <td>뉴A6 35 TDI 프리미엄 [무]</td>\n",
       "      <td>오토</td>\n",
       "      <td>2015</td>\n",
       "      <td>경유</td>\n",
       "      <td>129001</td>\n",
       "      <td>흰색</td>\n",
       "      <td>2250</td>\n",
       "      <td>A6</td>\n",
       "    </tr>\n",
       "    <tr>\n",
       "      <th>67114</th>\n",
       "      <td>2022-05-09</td>\n",
       "      <td>38</td>\n",
       "      <td>더 럭셔리 그랜저 Q270 LUXURY 스마트팩</td>\n",
       "      <td>오토</td>\n",
       "      <td>2010</td>\n",
       "      <td>휘발유</td>\n",
       "      <td>110000</td>\n",
       "      <td>흰색</td>\n",
       "      <td>669</td>\n",
       "      <td>그랜저</td>\n",
       "    </tr>\n",
       "    <tr>\n",
       "      <th>67115</th>\n",
       "      <td>2022-05-09</td>\n",
       "      <td>54</td>\n",
       "      <td>쿠퍼D 5도어 기본형 [무]</td>\n",
       "      <td>오토</td>\n",
       "      <td>2018</td>\n",
       "      <td>경유</td>\n",
       "      <td>29005</td>\n",
       "      <td>녹색</td>\n",
       "      <td>2430</td>\n",
       "      <td>쿠퍼</td>\n",
       "    </tr>\n",
       "  </tbody>\n",
       "</table>\n",
       "<p>67116 rows × 10 columns</p>\n",
       "</div>"
      ],
      "text/plain": [
       "             판매일   기간                            차량/세부모델  미션    연식   연료  \\\n",
       "0     2021-05-01  152      [현대]그랜저HG HG300 EXCLUSIVE [무]  오토  2013  휘발유   \n",
       "1     2021-05-01   67  [벤츠]E-클래스(W213) E300 4MATIC 아방가르드  오토  2018  휘발유   \n",
       "2     2021-05-01   47            [재규어]뉴XF 3.0 D 프리미엄 [무]  오토  2012   경유   \n",
       "3     2021-05-01   47             [현대]그랜저IG 2.2 VGT 프리미엄  오토  2017   경유   \n",
       "4     2021-05-01   46        [쌍용]체어맨H 뉴클래식 500S 최고급형 [무]  오토  2011  휘발유   \n",
       "...          ...  ...                                ...  ..   ...  ...   \n",
       "67111 2022-05-09   24                   뉴쏘렌토 2WD 2.5 VGT  오토  2008   경유   \n",
       "67112 2022-05-09   24                    더뉴트랙스 1.4 LT 코어  오토  2019  휘발유   \n",
       "67113 2022-05-09   17                뉴A6 35 TDI 프리미엄 [무]  오토  2015   경유   \n",
       "67114 2022-05-09   38         더 럭셔리 그랜저 Q270 LUXURY 스마트팩  오토  2010  휘발유   \n",
       "67115 2022-05-09   54                    쿠퍼D 5도어 기본형 [무]  오토  2018   경유   \n",
       "\n",
       "         주행거리    색상    가격     차종  \n",
       "0      192814    흰색   880    그랜저  \n",
       "1       16589    흰색  5450  E-클래스  \n",
       "2      180000    흰색   920     XF  \n",
       "3       98092   검정색  9999    그랜저  \n",
       "4      145253   검정색   390    체어맨  \n",
       "...       ...   ...   ...    ...  \n",
       "67111  224271  검정투톤   220    쏘렌토  \n",
       "67112   41000    흰색  1390    트랙스  \n",
       "67113  129001    흰색  2250     A6  \n",
       "67114  110000    흰색   669    그랜저  \n",
       "67115   29005    녹색  2430     쿠퍼  \n",
       "\n",
       "[67116 rows x 10 columns]"
      ]
     },
     "execution_count": 5,
     "metadata": {},
     "output_type": "execute_result"
    }
   ],
   "source": [
    "df"
   ]
  },
  {
   "cell_type": "markdown",
   "id": "2800ca1a",
   "metadata": {},
   "source": [
    "# 차종별"
   ]
  },
  {
   "cell_type": "code",
   "execution_count": 6,
   "id": "d2e27171",
   "metadata": {},
   "outputs": [
    {
     "data": {
      "text/plain": [
       "<seaborn.axisgrid.FacetGrid at 0x17a0efbe0>"
      ]
     },
     "execution_count": 6,
     "metadata": {},
     "output_type": "execute_result"
    },
    {
     "data": {
      "image/png": "[encoded data removed]",
      "text/plain": [
       "<Figure size 1080x360 with 1 Axes>"
      ]
     },
     "metadata": {
      "needs_background": "light"
     },
     "output_type": "display_data"
    }
   ],
   "source": [
    "sns.displot(df['차종'].value_counts(),bins=100,height = 5, aspect = 3,kde=True)"
   ]
  },
  {
   "cell_type": "code",
   "execution_count": 7,
   "id": "9f40e815",
   "metadata": {},
   "outputs": [
    {
     "data": {
      "text/plain": [
       "count     267.000000\n",
       "mean      251.370787\n",
       "std       593.759186\n",
       "min         1.000000\n",
       "25%        12.500000\n",
       "50%        46.000000\n",
       "75%       185.000000\n",
       "max      3956.000000\n",
       "Name: 차종, dtype: float64"
      ]
     },
     "execution_count": 7,
     "metadata": {},
     "output_type": "execute_result"
    }
   ],
   "source": [
    "df['차종'].value_counts().describe()"
   ]
  },
  {
   "cell_type": "markdown",
   "id": "e26b66dd",
   "metadata": {},
   "source": [
    "# 팔린대수"
   ]
  },
  {
   "cell_type": "code",
   "execution_count": 8,
   "id": "30d7ea0d",
   "metadata": {},
   "outputs": [],
   "source": [
    "mean_by_kind=df.groupby('차종').mean()"
   ]
  },
  {
   "cell_type": "code",
   "execution_count": 9,
   "id": "897393a3",
   "metadata": {},
   "outputs": [],
   "source": [
    "mean_by_kind=mean_by_kind.astype(int)"
   ]
  },
  {
   "cell_type": "code",
   "execution_count": 10,
   "id": "c6fd9fd2",
   "metadata": {},
   "outputs": [
    {
     "data": {
      "text/html": [
       "<div>\n",
       "<style scoped>\n",
       "    .dataframe tbody tr th:only-of-type {\n",
       "        vertical-align: middle;\n",
       "    }\n",
       "\n",
       "    .dataframe tbody tr th {\n",
       "        vertical-align: top;\n",
       "    }\n",
       "\n",
       "    .dataframe thead th {\n",
       "        text-align: right;\n",
       "    }\n",
       "</style>\n",
       "<table border=\"1\" class=\"dataframe\">\n",
       "  <thead>\n",
       "    <tr style=\"text-align: right;\">\n",
       "      <th></th>\n",
       "      <th>기간</th>\n",
       "      <th>연식</th>\n",
       "      <th>주행거리</th>\n",
       "      <th>가격</th>\n",
       "    </tr>\n",
       "    <tr>\n",
       "      <th>차종</th>\n",
       "      <th></th>\n",
       "      <th></th>\n",
       "      <th></th>\n",
       "      <th></th>\n",
       "    </tr>\n",
       "  </thead>\n",
       "  <tbody>\n",
       "    <tr>\n",
       "      <th>124</th>\n",
       "      <td>2</td>\n",
       "      <td>2020</td>\n",
       "      <td>12646</td>\n",
       "      <td>3900</td>\n",
       "    </tr>\n",
       "    <tr>\n",
       "      <th>1시리즈</th>\n",
       "      <td>143</td>\n",
       "      <td>2020</td>\n",
       "      <td>5668</td>\n",
       "      <td>3340</td>\n",
       "    </tr>\n",
       "    <tr>\n",
       "      <th>200</th>\n",
       "      <td>256</td>\n",
       "      <td>2014</td>\n",
       "      <td>96637</td>\n",
       "      <td>2643</td>\n",
       "    </tr>\n",
       "    <tr>\n",
       "      <th>2008</th>\n",
       "      <td>195</td>\n",
       "      <td>2015</td>\n",
       "      <td>84646</td>\n",
       "      <td>2059</td>\n",
       "    </tr>\n",
       "    <tr>\n",
       "      <th>207</th>\n",
       "      <td>376</td>\n",
       "      <td>2010</td>\n",
       "      <td>104150</td>\n",
       "      <td>1069</td>\n",
       "    </tr>\n",
       "    <tr>\n",
       "      <th>...</th>\n",
       "      <td>...</td>\n",
       "      <td>...</td>\n",
       "      <td>...</td>\n",
       "      <td>...</td>\n",
       "    </tr>\n",
       "    <tr>\n",
       "      <th>퓨전</th>\n",
       "      <td>320</td>\n",
       "      <td>2012</td>\n",
       "      <td>105849</td>\n",
       "      <td>788</td>\n",
       "    </tr>\n",
       "    <tr>\n",
       "      <th>프라이드</th>\n",
       "      <td>237</td>\n",
       "      <td>2010</td>\n",
       "      <td>103354</td>\n",
       "      <td>738</td>\n",
       "    </tr>\n",
       "    <tr>\n",
       "      <th>프리랜더</th>\n",
       "      <td>87</td>\n",
       "      <td>2010</td>\n",
       "      <td>156261</td>\n",
       "      <td>1425</td>\n",
       "    </tr>\n",
       "    <tr>\n",
       "      <th>프리몬트</th>\n",
       "      <td>55</td>\n",
       "      <td>2013</td>\n",
       "      <td>111523</td>\n",
       "      <td>5472</td>\n",
       "    </tr>\n",
       "    <tr>\n",
       "      <th>프리우스</th>\n",
       "      <td>189</td>\n",
       "      <td>2014</td>\n",
       "      <td>108606</td>\n",
       "      <td>7816</td>\n",
       "    </tr>\n",
       "  </tbody>\n",
       "</table>\n",
       "<p>267 rows × 4 columns</p>\n",
       "</div>"
      ],
      "text/plain": [
       "       기간    연식    주행거리    가격\n",
       "차종                           \n",
       "124     2  2020   12646  3900\n",
       "1시리즈  143  2020    5668  3340\n",
       "200   256  2014   96637  2643\n",
       "2008  195  2015   84646  2059\n",
       "207   376  2010  104150  1069\n",
       "...   ...   ...     ...   ...\n",
       "퓨전    320  2012  105849   788\n",
       "프라이드  237  2010  103354   738\n",
       "프리랜더   87  2010  156261  1425\n",
       "프리몬트   55  2013  111523  5472\n",
       "프리우스  189  2014  108606  7816\n",
       "\n",
       "[267 rows x 4 columns]"
      ]
     },
     "execution_count": 10,
     "metadata": {},
     "output_type": "execute_result"
    }
   ],
   "source": [
    "mean_by_kind"
   ]
  },
  {
   "cell_type": "code",
   "execution_count": 17,
   "id": "42cd6cb8",
   "metadata": {},
   "outputs": [],
   "source": [
    "count_by_kind=df.groupby('차종').count()"
   ]
  },
  {
   "cell_type": "code",
   "execution_count": 18,
   "id": "edba2e79",
   "metadata": {},
   "outputs": [],
   "source": [
    "top20_selling=count_by_kind[['기간']].sort_values(by='기간',ascending=False)[:20]"
   ]
  },
  {
   "cell_type": "code",
   "execution_count": 19,
   "id": "1bac54f0",
   "metadata": {
    "scrolled": false
   },
   "outputs": [
    {
     "data": {
      "text/plain": [
       "Text(0.5, 1.0, '차종 별 팔린 대수')"
      ]
     },
     "execution_count": 19,
     "metadata": {},
     "output_type": "execute_result"
    },
    {
     "data": {
      "image/png": "[encoded data removed]",
      "text/plain": [
       "<Figure size 1080x720 with 1 Axes>"
      ]
     },
     "metadata": {
      "needs_background": "light"
     },
     "output_type": "display_data"
    }
   ],
   "source": [
    "plt.figure(figsize=(15,10))\n",
    "ax=sns.barplot(x=top20_selling.index,y='기간',data=top20_selling)\n",
    "for p in ax.patches:\n",
    "    ax.annotate(\"%.0f\" % p.get_height(), (p.get_x() + p.get_width()/2., p.get_height() - 30),\n",
    "    ha='center', va='center', fontsize=13, color='black', xytext=(0, 10),\n",
    "    textcoords='offset points')\n",
    "ax.set_ylabel(\"팔린대수\", fontsize = 20)\n",
    "ax.set_title(\"차종 별 팔린 대수\")"
   ]
  },
  {
   "cell_type": "markdown",
   "id": "eccf0604",
   "metadata": {},
   "source": [
    "# 팔린 평균 기간"
   ]
  },
  {
   "cell_type": "code",
   "execution_count": 20,
   "id": "9f3c75ed",
   "metadata": {},
   "outputs": [
    {
     "data": {
      "text/plain": [
       "count    67116.000000\n",
       "mean       205.398638\n",
       "std        371.708097\n",
       "min          0.000000\n",
       "25%         22.000000\n",
       "50%         53.000000\n",
       "75%        139.000000\n",
       "max       5572.000000\n",
       "Name: 기간, dtype: float64"
      ]
     },
     "execution_count": 20,
     "metadata": {},
     "output_type": "execute_result"
    }
   ],
   "source": [
    "df['기간'].describe()"
   ]
  },
  {
   "cell_type": "code",
   "execution_count": 21,
   "id": "4014683a",
   "metadata": {},
   "outputs": [],
   "source": [
    "top20_models=list(top20_selling.index)"
   ]
  },
  {
   "cell_type": "code",
   "execution_count": 22,
   "id": "72eeae1c",
   "metadata": {},
   "outputs": [],
   "source": [
    "time_to_sell=mean_by_kind.loc[top20_models]['기간'].sort_values()"
   ]
  },
  {
   "cell_type": "code",
   "execution_count": 23,
   "id": "06fe672a",
   "metadata": {},
   "outputs": [],
   "source": [
    "time_to_sell=pd.DataFrame(time_to_sell)"
   ]
  },
  {
   "cell_type": "code",
   "execution_count": 24,
   "id": "abe66ad7",
   "metadata": {},
   "outputs": [
    {
     "data": {
      "text/plain": [
       "Text(0.5, 1.0, '차종 별 팔린 기간')"
      ]
     },
     "execution_count": 24,
     "metadata": {},
     "output_type": "execute_result"
    },
    {
     "data": {
      "image/png": "[encoded data removed]",
      "text/plain": [
       "<Figure size 1080x720 with 1 Axes>"
      ]
     },
     "metadata": {
      "needs_background": "light"
     },
     "output_type": "display_data"
    }
   ],
   "source": [
    "plt.figure(figsize=(15,10))\n",
    "ax2=sns.barplot(x=time_to_sell.index,y='기간',data=time_to_sell)\n",
    "for p in ax2.patches:\n",
    "    ax2.annotate(\"%.0f\" % p.get_height(), (p.get_x() + p.get_width()/2., p.get_height() - 30),\n",
    "    ha='center', va='center', fontsize=13, color='black', xytext=(0, 10),\n",
    "    textcoords='offset points')\n",
    "ax2.set_ylabel(\"팔린 기간\", fontsize = 20)\n",
    "ax2.set_title(\"차종 별 팔린 기간\")"
   ]
  },
  {
   "cell_type": "markdown",
   "id": "fb6e855a",
   "metadata": {},
   "source": [
    "# 월별 거래량"
   ]
  },
  {
   "cell_type": "code",
   "execution_count": 25,
   "id": "beb26a69",
   "metadata": {},
   "outputs": [],
   "source": [
    "df['년월'] = df['판매일'].dt.strftime('%Y%B')"
   ]
  },
  {
   "cell_type": "code",
   "execution_count": 26,
   "id": "cd46b098",
   "metadata": {},
   "outputs": [],
   "source": [
    "year_month=df.groupby('년월').count()"
   ]
  },
  {
   "cell_type": "code",
   "execution_count": 27,
   "id": "ecba6dd0",
   "metadata": {},
   "outputs": [],
   "source": [
    "year_month=year_month.reindex(['2021May','2021June','2021July','2021August',\n",
    "                    '2021September','2021October','2021November','2021December',\n",
    "                   '2022January','2022February','2022March','2022April','2022May'],axis='index')"
   ]
  },
  {
   "cell_type": "code",
   "execution_count": 28,
   "id": "767dd0e3",
   "metadata": {},
   "outputs": [
    {
     "data": {
      "text/html": [
       "<div>\n",
       "<style scoped>\n",
       "    .dataframe tbody tr th:only-of-type {\n",
       "        vertical-align: middle;\n",
       "    }\n",
       "\n",
       "    .dataframe tbody tr th {\n",
       "        vertical-align: top;\n",
       "    }\n",
       "\n",
       "    .dataframe thead th {\n",
       "        text-align: right;\n",
       "    }\n",
       "</style>\n",
       "<table border=\"1\" class=\"dataframe\">\n",
       "  <thead>\n",
       "    <tr style=\"text-align: right;\">\n",
       "      <th></th>\n",
       "      <th>판매일</th>\n",
       "      <th>기간</th>\n",
       "      <th>차량/세부모델</th>\n",
       "      <th>미션</th>\n",
       "      <th>연식</th>\n",
       "      <th>연료</th>\n",
       "      <th>주행거리</th>\n",
       "      <th>색상</th>\n",
       "      <th>가격</th>\n",
       "      <th>차종</th>\n",
       "    </tr>\n",
       "    <tr>\n",
       "      <th>년월</th>\n",
       "      <th></th>\n",
       "      <th></th>\n",
       "      <th></th>\n",
       "      <th></th>\n",
       "      <th></th>\n",
       "      <th></th>\n",
       "      <th></th>\n",
       "      <th></th>\n",
       "      <th></th>\n",
       "      <th></th>\n",
       "    </tr>\n",
       "  </thead>\n",
       "  <tbody>\n",
       "    <tr>\n",
       "      <th>2021May</th>\n",
       "      <td>6747</td>\n",
       "      <td>6747</td>\n",
       "      <td>6747</td>\n",
       "      <td>6747</td>\n",
       "      <td>6747</td>\n",
       "      <td>6747</td>\n",
       "      <td>6747</td>\n",
       "      <td>6747</td>\n",
       "      <td>6747</td>\n",
       "      <td>6747</td>\n",
       "    </tr>\n",
       "    <tr>\n",
       "      <th>2021June</th>\n",
       "      <td>4921</td>\n",
       "      <td>4921</td>\n",
       "      <td>4921</td>\n",
       "      <td>4921</td>\n",
       "      <td>4921</td>\n",
       "      <td>4921</td>\n",
       "      <td>4921</td>\n",
       "      <td>4921</td>\n",
       "      <td>4921</td>\n",
       "      <td>4921</td>\n",
       "    </tr>\n",
       "    <tr>\n",
       "      <th>2021July</th>\n",
       "      <td>6100</td>\n",
       "      <td>6100</td>\n",
       "      <td>6100</td>\n",
       "      <td>6100</td>\n",
       "      <td>6100</td>\n",
       "      <td>6091</td>\n",
       "      <td>6100</td>\n",
       "      <td>6100</td>\n",
       "      <td>6100</td>\n",
       "      <td>6100</td>\n",
       "    </tr>\n",
       "    <tr>\n",
       "      <th>2021August</th>\n",
       "      <td>4603</td>\n",
       "      <td>4603</td>\n",
       "      <td>4603</td>\n",
       "      <td>4603</td>\n",
       "      <td>4603</td>\n",
       "      <td>4603</td>\n",
       "      <td>4603</td>\n",
       "      <td>4603</td>\n",
       "      <td>4603</td>\n",
       "      <td>4603</td>\n",
       "    </tr>\n",
       "    <tr>\n",
       "      <th>2021September</th>\n",
       "      <td>4807</td>\n",
       "      <td>4807</td>\n",
       "      <td>4807</td>\n",
       "      <td>4807</td>\n",
       "      <td>4807</td>\n",
       "      <td>4807</td>\n",
       "      <td>4807</td>\n",
       "      <td>4807</td>\n",
       "      <td>4807</td>\n",
       "      <td>4807</td>\n",
       "    </tr>\n",
       "    <tr>\n",
       "      <th>2021October</th>\n",
       "      <td>4976</td>\n",
       "      <td>4976</td>\n",
       "      <td>4976</td>\n",
       "      <td>4976</td>\n",
       "      <td>4976</td>\n",
       "      <td>4976</td>\n",
       "      <td>4976</td>\n",
       "      <td>4976</td>\n",
       "      <td>4976</td>\n",
       "      <td>4976</td>\n",
       "    </tr>\n",
       "    <tr>\n",
       "      <th>2021November</th>\n",
       "      <td>7049</td>\n",
       "      <td>7049</td>\n",
       "      <td>7049</td>\n",
       "      <td>7049</td>\n",
       "      <td>7049</td>\n",
       "      <td>7049</td>\n",
       "      <td>7049</td>\n",
       "      <td>7049</td>\n",
       "      <td>7049</td>\n",
       "      <td>7049</td>\n",
       "    </tr>\n",
       "    <tr>\n",
       "      <th>2021December</th>\n",
       "      <td>4411</td>\n",
       "      <td>4411</td>\n",
       "      <td>4411</td>\n",
       "      <td>4411</td>\n",
       "      <td>4411</td>\n",
       "      <td>4411</td>\n",
       "      <td>4411</td>\n",
       "      <td>4411</td>\n",
       "      <td>4411</td>\n",
       "      <td>4411</td>\n",
       "    </tr>\n",
       "    <tr>\n",
       "      <th>2022January</th>\n",
       "      <td>6430</td>\n",
       "      <td>6430</td>\n",
       "      <td>6430</td>\n",
       "      <td>6430</td>\n",
       "      <td>6430</td>\n",
       "      <td>6430</td>\n",
       "      <td>6430</td>\n",
       "      <td>6430</td>\n",
       "      <td>6430</td>\n",
       "      <td>6430</td>\n",
       "    </tr>\n",
       "    <tr>\n",
       "      <th>2022February</th>\n",
       "      <td>4652</td>\n",
       "      <td>4652</td>\n",
       "      <td>4652</td>\n",
       "      <td>4652</td>\n",
       "      <td>4652</td>\n",
       "      <td>4652</td>\n",
       "      <td>4652</td>\n",
       "      <td>4652</td>\n",
       "      <td>4652</td>\n",
       "      <td>4652</td>\n",
       "    </tr>\n",
       "    <tr>\n",
       "      <th>2022March</th>\n",
       "      <td>5317</td>\n",
       "      <td>5317</td>\n",
       "      <td>5317</td>\n",
       "      <td>5317</td>\n",
       "      <td>5317</td>\n",
       "      <td>5317</td>\n",
       "      <td>5317</td>\n",
       "      <td>5317</td>\n",
       "      <td>5317</td>\n",
       "      <td>5317</td>\n",
       "    </tr>\n",
       "    <tr>\n",
       "      <th>2022April</th>\n",
       "      <td>5631</td>\n",
       "      <td>5631</td>\n",
       "      <td>5631</td>\n",
       "      <td>5631</td>\n",
       "      <td>5631</td>\n",
       "      <td>5631</td>\n",
       "      <td>5631</td>\n",
       "      <td>5631</td>\n",
       "      <td>5631</td>\n",
       "      <td>5631</td>\n",
       "    </tr>\n",
       "    <tr>\n",
       "      <th>2022May</th>\n",
       "      <td>1472</td>\n",
       "      <td>1472</td>\n",
       "      <td>1472</td>\n",
       "      <td>1472</td>\n",
       "      <td>1472</td>\n",
       "      <td>1472</td>\n",
       "      <td>1472</td>\n",
       "      <td>1472</td>\n",
       "      <td>1472</td>\n",
       "      <td>1472</td>\n",
       "    </tr>\n",
       "  </tbody>\n",
       "</table>\n",
       "</div>"
      ],
      "text/plain": [
       "                판매일    기간  차량/세부모델    미션    연식    연료  주행거리    색상    가격    차종\n",
       "년월                                                                          \n",
       "2021May        6747  6747     6747  6747  6747  6747  6747  6747  6747  6747\n",
       "2021June       4921  4921     4921  4921  4921  4921  4921  4921  4921  4921\n",
       "2021July       6100  6100     6100  6100  6100  6091  6100  6100  6100  6100\n",
       "2021August     4603  4603     4603  4603  4603  4603  4603  4603  4603  4603\n",
       "2021September  4807  4807     4807  4807  4807  4807  4807  4807  4807  4807\n",
       "2021October    4976  4976     4976  4976  4976  4976  4976  4976  4976  4976\n",
       "2021November   7049  7049     7049  7049  7049  7049  7049  7049  7049  7049\n",
       "2021December   4411  4411     4411  4411  4411  4411  4411  4411  4411  4411\n",
       "2022January    6430  6430     6430  6430  6430  6430  6430  6430  6430  6430\n",
       "2022February   4652  4652     4652  4652  4652  4652  4652  4652  4652  4652\n",
       "2022March      5317  5317     5317  5317  5317  5317  5317  5317  5317  5317\n",
       "2022April      5631  5631     5631  5631  5631  5631  5631  5631  5631  5631\n",
       "2022May        1472  1472     1472  1472  1472  1472  1472  1472  1472  1472"
      ]
     },
     "execution_count": 28,
     "metadata": {},
     "output_type": "execute_result"
    }
   ],
   "source": [
    "year_month"
   ]
  },
  {
   "cell_type": "code",
   "execution_count": 29,
   "id": "3c514223",
   "metadata": {},
   "outputs": [
    {
     "data": {
      "text/plain": [
       "<AxesSubplot:xlabel='년월', ylabel='기간'>"
      ]
     },
     "execution_count": 29,
     "metadata": {},
     "output_type": "execute_result"
    },
    {
     "data": {
      "image/png": "[encoded data removed]",
      "text/plain": [
       "<Figure size 1080x720 with 1 Axes>"
      ]
     },
     "metadata": {
      "needs_background": "light"
     },
     "output_type": "display_data"
    }
   ],
   "source": [
    "sns.barplot(data=year_month, x=year_month.index, y=\"기간\")"
   ]
  },
  {
   "cell_type": "code",
   "execution_count": 33,
   "id": "ec77bd99",
   "metadata": {},
   "outputs": [
    {
     "data": {
      "application/vnd.jupyter.widget-view+json": {
       "model_id": "f0d2257a05a240f486334cf73f5d2087",
       "version_major": 2,
       "version_minor": 0
      },
      "text/plain": [
       "Summarize dataset:   0%|          | 0/5 [00:00<?, ?it/s]"
      ]
     },
     "metadata": {},
     "output_type": "display_data"
    },
    {
     "data": {
      "application/vnd.jupyter.widget-view+json": {
       "model_id": "b8b2ac438a52406796b726182e84f609",
       "version_major": 2,
       "version_minor": 0
      },
      "text/plain": [
       "Generate report structure:   0%|          | 0/1 [00:00<?, ?it/s]"
      ]
     },
     "metadata": {},
     "output_type": "display_data"
    },
    {
     "data": {
      "application/vnd.jupyter.widget-view+json": {
       "model_id": "7e9675c314d8418eb90f3f45325e312d",
       "version_major": 2,
       "version_minor": 0
      },
      "text/plain": [
       "Render HTML:   0%|          | 0/1 [00:00<?, ?it/s]"
      ]
     },
     "metadata": {},
     "output_type": "display_data"
    },
    {
     "data": {
      "application/vnd.jupyter.widget-view+json": {
       "model_id": "b59272e6d3854202bd60c486b987c47d",
       "version_major": 2,
       "version_minor": 0
      },
      "text/plain": [
       "Export report to file:   0%|          | 0/1 [00:00<?, ?it/s]"
      ]
     },
     "metadata": {},
     "output_type": "display_data"
    }
   ],
   "source": [
    "import pandas as pd\n",
    "import numpy as np\n",
    "import seaborn as sns\n",
    "import matplotlib.pyplot as plt\n",
    "import matplotlib as mpl\n",
    "import scipy.stats as stats\n",
    "import pandas_profiling\n",
    "from pandas_profiling import ProfileReport\n",
    "import warnings\n",
    "warnings.filterwarnings(\"ignore\")\n",
    "\n",
    "df['판매일_월'] = df['판매일'].dt.month\n",
    "df['판매일_일'] = df['판매일'].dt.day\n",
    "\n",
    "report1 = ProfileReport(df)\n",
    "report1.to_file('usedcar_report.html')"
   ]
  },
  {
   "cell_type": "code",
   "execution_count": 31,
   "id": "4ac11a4e",
   "metadata": {},
   "outputs": [
    {
     "name": "stdout",
     "output_type": "stream",
     "text": [
      "Collecting pandas_profiling\n",
      "  Downloading pandas_profiling-3.2.0-py2.py3-none-any.whl (262 kB)\n",
      "\u001b[2K     \u001b[38;2;114;156;31m━━━━━━━━━━━━━━━━━━━━━━━━━━━━━━━━━━━━━━━\u001b[0m \u001b[32m262.6/262.6 KB\u001b[0m \u001b[31m5.6 MB/s\u001b[0m eta \u001b[36m0:00:00\u001b[0m[36m0:00:01\u001b[0m\n",
      "\u001b[?25hRequirement already satisfied: joblib~=1.1.0 in /Users/kim/miniforge3/envs/dp/lib/python3.10/site-packages (from pandas_profiling) (1.1.0)\n",
      "Collecting phik>=0.11.1\n",
      "  Downloading phik-0.12.2-cp310-cp310-macosx_11_0_arm64.whl (975 kB)\n",
      "\u001b[2K     \u001b[38;2;114;156;31m━━━━━━━━━━━━━━━━━━━━━━━━━━━━━━━━━━━━━━\u001b[0m \u001b[32m975.2/975.2 KB\u001b[0m \u001b[31m18.2 MB/s\u001b[0m eta \u001b[36m0:00:00\u001b[0mm eta \u001b[36m0:00:01\u001b[0m\n",
      "\u001b[?25hCollecting tangled-up-in-unicode==0.2.0\n",
      "  Downloading tangled_up_in_unicode-0.2.0-py3-none-any.whl (4.7 MB)\n",
      "\u001b[2K     \u001b[38;2;114;156;31m━━━━━━━━━━━━━━━━━━━━━━━━━━━━━━━━━━━━━━━━\u001b[0m \u001b[32m4.7/4.7 MB\u001b[0m \u001b[31m25.2 MB/s\u001b[0m eta \u001b[36m0:00:00\u001b[0mm eta \u001b[36m0:00:01\u001b[0m0:01\u001b[0m:01\u001b[0m\n",
      "\u001b[?25hRequirement already satisfied: requests>=2.24.0 in /Users/kim/miniforge3/envs/dp/lib/python3.10/site-packages (from pandas_profiling) (2.27.1)\n",
      "Collecting PyYAML>=5.0.0\n",
      "  Downloading PyYAML-6.0-cp310-cp310-macosx_11_0_arm64.whl (173 kB)\n",
      "\u001b[2K     \u001b[38;2;114;156;31m━━━━━━━━━━━━━━━━━━━━━━━━━━━━━━━━━━━━━━━\u001b[0m \u001b[32m174.0/174.0 KB\u001b[0m \u001b[31m6.9 MB/s\u001b[0m eta \u001b[36m0:00:00\u001b[0m\n",
      "\u001b[?25hRequirement already satisfied: markupsafe~=2.1.1 in /Users/kim/miniforge3/envs/dp/lib/python3.10/site-packages (from pandas_profiling) (2.1.1)\n",
      "Requirement already satisfied: jinja2>=2.11.1 in /Users/kim/miniforge3/envs/dp/lib/python3.10/site-packages (from pandas_profiling) (3.1.1)\n",
      "Collecting missingno>=0.4.2\n",
      "  Using cached missingno-0.5.1-py3-none-any.whl (8.7 kB)\n",
      "Requirement already satisfied: tqdm>=4.48.2 in /Users/kim/miniforge3/envs/dp/lib/python3.10/site-packages (from pandas_profiling) (4.64.0)\n",
      "Requirement already satisfied: scipy>=1.4.1 in /Users/kim/miniforge3/envs/dp/lib/python3.10/site-packages (from pandas_profiling) (1.8.0)\n",
      "Requirement already satisfied: pandas!=1.0.0,!=1.0.1,!=1.0.2,!=1.1.0,>=0.25.3 in /Users/kim/miniforge3/envs/dp/lib/python3.10/site-packages (from pandas_profiling) (1.4.2)\n",
      "Collecting htmlmin>=0.1.12\n",
      "  Using cached htmlmin-0.1.12.tar.gz (19 kB)\n",
      "  Preparing metadata (setup.py) ... \u001b[?25ldone\n",
      "\u001b[?25hRequirement already satisfied: matplotlib>=3.2.0 in /Users/kim/miniforge3/envs/dp/lib/python3.10/site-packages (from pandas_profiling) (3.5.1)\n",
      "Collecting pydantic>=1.8.1\n",
      "  Downloading pydantic-1.9.0-cp310-cp310-macosx_11_0_arm64.whl (2.4 MB)\n",
      "\u001b[2K     \u001b[38;2;114;156;31m━━━━━━━━━━━━━━━━━━━━━━━━━━━━━━━━━━━━━━━━\u001b[0m \u001b[32m2.4/2.4 MB\u001b[0m \u001b[31m24.9 MB/s\u001b[0m eta \u001b[36m0:00:00\u001b[0mm eta \u001b[36m0:00:01\u001b[0m[36m0:00:01\u001b[0m\n",
      "\u001b[?25hRequirement already satisfied: seaborn>=0.10.1 in /Users/kim/miniforge3/envs/dp/lib/python3.10/site-packages (from pandas_profiling) (0.11.2)\n",
      "Collecting multimethod>=1.4\n",
      "  Using cached multimethod-1.8-py3-none-any.whl (9.8 kB)\n",
      "Requirement already satisfied: numpy>=1.16.0 in /Users/kim/miniforge3/envs/dp/lib/python3.10/site-packages (from pandas_profiling) (1.22.3)\n",
      "Collecting visions[type_image_path]==0.7.4\n",
      "  Using cached visions-0.7.4-py3-none-any.whl (102 kB)\n",
      "Requirement already satisfied: attrs>=19.3.0 in /Users/kim/miniforge3/envs/dp/lib/python3.10/site-packages (from visions[type_image_path]==0.7.4->pandas_profiling) (21.4.0)\n",
      "Collecting networkx>=2.4\n",
      "  Using cached networkx-2.8-py3-none-any.whl (2.0 MB)\n",
      "Requirement already satisfied: Pillow in /Users/kim/miniforge3/envs/dp/lib/python3.10/site-packages (from visions[type_image_path]==0.7.4->pandas_profiling) (9.1.0)\n",
      "Collecting imagehash\n",
      "  Using cached ImageHash-4.2.1.tar.gz (812 kB)\n",
      "  Preparing metadata (setup.py) ... \u001b[?25ldone\n",
      "\u001b[?25hRequirement already satisfied: python-dateutil>=2.7 in /Users/kim/miniforge3/envs/dp/lib/python3.10/site-packages (from matplotlib>=3.2.0->pandas_profiling) (2.8.2)\n",
      "Requirement already satisfied: fonttools>=4.22.0 in /Users/kim/miniforge3/envs/dp/lib/python3.10/site-packages (from matplotlib>=3.2.0->pandas_profiling) (4.32.0)\n",
      "Requirement already satisfied: packaging>=20.0 in /Users/kim/miniforge3/envs/dp/lib/python3.10/site-packages (from matplotlib>=3.2.0->pandas_profiling) (21.3)\n",
      "Requirement already satisfied: pyparsing>=2.2.1 in /Users/kim/miniforge3/envs/dp/lib/python3.10/site-packages (from matplotlib>=3.2.0->pandas_profiling) (3.0.8)\n",
      "Requirement already satisfied: cycler>=0.10 in /Users/kim/miniforge3/envs/dp/lib/python3.10/site-packages (from matplotlib>=3.2.0->pandas_profiling) (0.11.0)\n",
      "Requirement already satisfied: kiwisolver>=1.0.1 in /Users/kim/miniforge3/envs/dp/lib/python3.10/site-packages (from matplotlib>=3.2.0->pandas_profiling) (1.4.2)\n",
      "Requirement already satisfied: pytz>=2020.1 in /Users/kim/miniforge3/envs/dp/lib/python3.10/site-packages (from pandas!=1.0.0,!=1.0.1,!=1.0.2,!=1.1.0,>=0.25.3->pandas_profiling) (2022.1)\n",
      "Requirement already satisfied: typing-extensions>=3.7.4.3 in /Users/kim/miniforge3/envs/dp/lib/python3.10/site-packages (from pydantic>=1.8.1->pandas_profiling) (4.2.0)\n",
      "Requirement already satisfied: charset-normalizer~=2.0.0 in /Users/kim/miniforge3/envs/dp/lib/python3.10/site-packages (from requests>=2.24.0->pandas_profiling) (2.0.12)\n",
      "Requirement already satisfied: urllib3<1.27,>=1.21.1 in /Users/kim/miniforge3/envs/dp/lib/python3.10/site-packages (from requests>=2.24.0->pandas_profiling) (1.26.9)\n",
      "Requirement already satisfied: certifi>=2017.4.17 in /Users/kim/miniforge3/envs/dp/lib/python3.10/site-packages (from requests>=2.24.0->pandas_profiling) (2021.10.8)\n",
      "Requirement already satisfied: idna<4,>=2.5 in /Users/kim/miniforge3/envs/dp/lib/python3.10/site-packages (from requests>=2.24.0->pandas_profiling) (3.3)\n",
      "Requirement already satisfied: six>=1.5 in /Users/kim/miniforge3/envs/dp/lib/python3.10/site-packages (from python-dateutil>=2.7->matplotlib>=3.2.0->pandas_profiling) (1.16.0)\n",
      "Collecting PyWavelets\n",
      "  Downloading PyWavelets-1.3.0-cp310-cp310-macosx_11_0_arm64.whl (4.3 MB)\n",
      "\u001b[2K     \u001b[38;2;114;156;31m━━━━━━━━━━━━━━━━━━━━━━━━━━━━━━━━━━━━━━━━\u001b[0m \u001b[32m4.3/4.3 MB\u001b[0m \u001b[31m26.1 MB/s\u001b[0m eta \u001b[36m0:00:00\u001b[0mm eta \u001b[36m0:00:01\u001b[0m[36m0:00:01\u001b[0m\n",
      "\u001b[?25hBuilding wheels for collected packages: htmlmin, imagehash\n",
      "  Building wheel for htmlmin (setup.py) ... \u001b[?25ldone\n",
      "\u001b[?25h  Created wheel for htmlmin: filename=htmlmin-0.1.12-py3-none-any.whl size=27096 sha256=60eaa8cda773ec877f94ccceaaf1acfef2fe033e692c01007fec21c31106c5c6\n",
      "  Stored in directory: /Users/kim/Library/Caches/pip/wheels/dd/91/29/a79cecb328d01739e64017b6fb9a1ab9d8cb1853098ec5966d\n",
      "  Building wheel for imagehash (setup.py) ... \u001b[?25ldone\n",
      "\u001b[?25h  Created wheel for imagehash: filename=ImageHash-4.2.1-py2.py3-none-any.whl size=295206 sha256=d3164f6085b986f553687e07c89652e818cb6a22bb995ee7b802bde84a3dfe98\n",
      "  Stored in directory: /Users/kim/Library/Caches/pip/wheels/37/84/30/6726df123f2fa8743637f767a88bb1300c33563f5b61a3fd56\n",
      "Successfully built htmlmin imagehash\n",
      "Installing collected packages: htmlmin, tangled-up-in-unicode, PyYAML, PyWavelets, pydantic, networkx, multimethod, imagehash, visions, phik, missingno, pandas_profiling\n",
      "Successfully installed PyWavelets-1.3.0 PyYAML-6.0 htmlmin-0.1.12 imagehash-4.2.1 missingno-0.5.1 multimethod-1.8 networkx-2.8 pandas_profiling-3.2.0 phik-0.12.2 pydantic-1.9.0 tangled-up-in-unicode-0.2.0 visions-0.7.4\n"
     ]
    }
   ],
   "source": [
    "!pip install pandas_profiling"
   ]
  },
  {
   "cell_type": "code",
   "execution_count": 39,
   "id": "f3bff364",
   "metadata": {},
   "outputs": [
    {
     "data": {
      "text/plain": [
       "<AxesSubplot:>"
      ]
     },
     "execution_count": 39,
     "metadata": {},
     "output_type": "execute_result"
    },
    {
     "data": {
      "image/png": "[encoded data removed]",
      "text/plain": [
       "<Figure size 1440x1440 with 2 Axes>"
      ]
     },
     "metadata": {
      "needs_background": "light"
     },
     "output_type": "display_data"
    }
   ],
   "source": [
    "plt.figure(figsize=(20,20))\n",
    "sns.heatmap(df.corr(),annot=True,linewidths=0.5,)\n"
   ]
  },
  {
   "cell_type": "code",
   "execution_count": 40,
   "id": "0bed529e",
   "metadata": {},
   "outputs": [
    {
     "data": {
      "text/html": [
       "<div>\n",
       "<style scoped>\n",
       "    .dataframe tbody tr th:only-of-type {\n",
       "        vertical-align: middle;\n",
       "    }\n",
       "\n",
       "    .dataframe tbody tr th {\n",
       "        vertical-align: top;\n",
       "    }\n",
       "\n",
       "    .dataframe thead th {\n",
       "        text-align: right;\n",
       "    }\n",
       "</style>\n",
       "<table border=\"1\" class=\"dataframe\">\n",
       "  <thead>\n",
       "    <tr style=\"text-align: right;\">\n",
       "      <th></th>\n",
       "      <th>기간</th>\n",
       "      <th>연식</th>\n",
       "      <th>주행거리</th>\n",
       "      <th>가격</th>\n",
       "      <th>판매일_월</th>\n",
       "      <th>판매일_일</th>\n",
       "    </tr>\n",
       "  </thead>\n",
       "  <tbody>\n",
       "    <tr>\n",
       "      <th>기간</th>\n",
       "      <td>1.000000</td>\n",
       "      <td>-0.120655</td>\n",
       "      <td>-0.057674</td>\n",
       "      <td>-0.052486</td>\n",
       "      <td>-0.005148</td>\n",
       "      <td>0.193287</td>\n",
       "    </tr>\n",
       "    <tr>\n",
       "      <th>연식</th>\n",
       "      <td>-0.120655</td>\n",
       "      <td>1.000000</td>\n",
       "      <td>-0.021039</td>\n",
       "      <td>0.009963</td>\n",
       "      <td>0.001135</td>\n",
       "      <td>0.008419</td>\n",
       "    </tr>\n",
       "    <tr>\n",
       "      <th>주행거리</th>\n",
       "      <td>-0.057674</td>\n",
       "      <td>-0.021039</td>\n",
       "      <td>1.000000</td>\n",
       "      <td>-0.054117</td>\n",
       "      <td>-0.001319</td>\n",
       "      <td>-0.047515</td>\n",
       "    </tr>\n",
       "    <tr>\n",
       "      <th>가격</th>\n",
       "      <td>-0.052486</td>\n",
       "      <td>0.009963</td>\n",
       "      <td>-0.054117</td>\n",
       "      <td>1.000000</td>\n",
       "      <td>-0.000640</td>\n",
       "      <td>-0.009275</td>\n",
       "    </tr>\n",
       "    <tr>\n",
       "      <th>판매일_월</th>\n",
       "      <td>-0.005148</td>\n",
       "      <td>0.001135</td>\n",
       "      <td>-0.001319</td>\n",
       "      <td>-0.000640</td>\n",
       "      <td>1.000000</td>\n",
       "      <td>0.021922</td>\n",
       "    </tr>\n",
       "    <tr>\n",
       "      <th>판매일_일</th>\n",
       "      <td>0.193287</td>\n",
       "      <td>0.008419</td>\n",
       "      <td>-0.047515</td>\n",
       "      <td>-0.009275</td>\n",
       "      <td>0.021922</td>\n",
       "      <td>1.000000</td>\n",
       "    </tr>\n",
       "  </tbody>\n",
       "</table>\n",
       "</div>"
      ],
      "text/plain": [
       "             기간        연식      주행거리        가격     판매일_월     판매일_일\n",
       "기간     1.000000 -0.120655 -0.057674 -0.052486 -0.005148  0.193287\n",
       "연식    -0.120655  1.000000 -0.021039  0.009963  0.001135  0.008419\n",
       "주행거리  -0.057674 -0.021039  1.000000 -0.054117 -0.001319 -0.047515\n",
       "가격    -0.052486  0.009963 -0.054117  1.000000 -0.000640 -0.009275\n",
       "판매일_월 -0.005148  0.001135 -0.001319 -0.000640  1.000000  0.021922\n",
       "판매일_일  0.193287  0.008419 -0.047515 -0.009275  0.021922  1.000000"
      ]
     },
     "execution_count": 40,
     "metadata": {},
     "output_type": "execute_result"
    }
   ],
   "source": [
    "df.corr()"
   ]
  },
  {
   "cell_type": "code",
   "execution_count": 1,
   "id": "1062ae67",
   "metadata": {},
   "outputs": [
    {
     "ename": "NameError",
     "evalue": "name 'df' is not defined",
     "output_type": "error",
     "traceback": [
      "\u001b[0;31m---------------------------------------------------------------------------\u001b[0m",
      "\u001b[0;31mNameError\u001b[0m                                 Traceback (most recent call last)",
      "Input \u001b[0;32mIn [1]\u001b[0m, in \u001b[0;36m<cell line: 1>\u001b[0;34m()\u001b[0m\n\u001b[0;32m----> 1\u001b[0m \u001b[38;5;28mlen\u001b[39m(\u001b[43mdf\u001b[49m)\n",
      "\u001b[0;31mNameError\u001b[0m: name 'df' is not defined"
     ]
    }
   ],
   "source": [
    "len(df)"
   ]
  },
  {
   "cell_type": "code",
   "execution_count": null,
   "id": "9489eee3",
   "metadata": {},
   "outputs": [],
   "source": []
  }
 ],
 "metadata": {
  "kernelspec": {
   "display_name": "Python 3 (ipykernel)",
   "language": "python",
   "name": "python3"
  },
  "language_info": {
   "codemirror_mode": {
    "name": "ipython",
    "version": 3
   },
   "file_extension": ".py",
   "mimetype": "text/x-python",
   "name": "python",
   "nbconvert_exporter": "python",
   "pygments_lexer": "ipython3",
   "version": "3.10.4"
  }
 },
 "nbformat": 4,
 "nbformat_minor": 5
}

{
 "cells": [
  {
   "cell_type": "code",
   "execution_count": 1,
   "id": "d5baf1aa",
   "metadata": {},
   "outputs": [],
   "source": [
    "import pandas as pd\n",
    "import tensorflow as tf\n",
    "from datetime import datetime"
   ]
  },
  {
   "cell_type": "code",
   "execution_count": 2,
   "id": "1922e907",
   "metadata": {},
   "outputs": [],
   "source": [
    "df=pd.read_csv('./팔린데이터최종본_cp.csv',encoding='cp949')"
   ]
  },
  {
   "cell_type": "code",
   "execution_count": 3,
   "id": "07bc00e5",
   "metadata": {},
   "outputs": [],
   "source": [
    "df=df.drop('Unnamed: 0',axis=1)"
   ]
  },
  {
   "cell_type": "code",
   "execution_count": 26,
   "id": "70424483",
   "metadata": {},
   "outputs": [
    {
     "data": {
      "text/html": [
       "<div>\n",
       "<style scoped>\n",
       "    .dataframe tbody tr th:only-of-type {\n",
       "        vertical-align: middle;\n",
       "    }\n",
       "\n",
       "    .dataframe tbody tr th {\n",
       "        vertical-align: top;\n",
       "    }\n",
       "\n",
       "    .dataframe thead th {\n",
       "        text-align: right;\n",
       "    }\n",
       "</style>\n",
       "<table border=\"1\" class=\"dataframe\">\n",
       "  <thead>\n",
       "    <tr style=\"text-align: right;\">\n",
       "      <th></th>\n",
       "      <th>판매일</th>\n",
       "      <th>기간</th>\n",
       "      <th>차량/세부모델</th>\n",
       "      <th>미션</th>\n",
       "      <th>연식</th>\n",
       "      <th>연료</th>\n",
       "      <th>주행거리</th>\n",
       "      <th>색상</th>\n",
       "      <th>가격</th>\n",
       "      <th>차종</th>\n",
       "    </tr>\n",
       "  </thead>\n",
       "  <tbody>\n",
       "    <tr>\n",
       "      <th>0</th>\n",
       "      <td>2021.5.1</td>\n",
       "      <td>152</td>\n",
       "      <td>[현대]그랜저HG HG300 EXCLUSIVE [무]</td>\n",
       "      <td>오토</td>\n",
       "      <td>2013</td>\n",
       "      <td>휘발유</td>\n",
       "      <td>192814</td>\n",
       "      <td>흰색</td>\n",
       "      <td>880</td>\n",
       "      <td>그랜저</td>\n",
       "    </tr>\n",
       "    <tr>\n",
       "      <th>1</th>\n",
       "      <td>2021.5.1</td>\n",
       "      <td>67</td>\n",
       "      <td>[벤츠]E-클래스(W213) E300 4MATIC 아방가르드</td>\n",
       "      <td>오토</td>\n",
       "      <td>2018</td>\n",
       "      <td>휘발유</td>\n",
       "      <td>16589</td>\n",
       "      <td>흰색</td>\n",
       "      <td>5450</td>\n",
       "      <td>E-클래스</td>\n",
       "    </tr>\n",
       "    <tr>\n",
       "      <th>2</th>\n",
       "      <td>2021.5.1</td>\n",
       "      <td>47</td>\n",
       "      <td>[재규어]뉴XF 3.0 D 프리미엄 [무]</td>\n",
       "      <td>오토</td>\n",
       "      <td>2012</td>\n",
       "      <td>경유</td>\n",
       "      <td>180000</td>\n",
       "      <td>흰색</td>\n",
       "      <td>920</td>\n",
       "      <td>XF</td>\n",
       "    </tr>\n",
       "    <tr>\n",
       "      <th>3</th>\n",
       "      <td>2021.5.1</td>\n",
       "      <td>47</td>\n",
       "      <td>[현대]그랜저IG 2.2 VGT 프리미엄</td>\n",
       "      <td>오토</td>\n",
       "      <td>2017</td>\n",
       "      <td>경유</td>\n",
       "      <td>98092</td>\n",
       "      <td>검정색</td>\n",
       "      <td>9999</td>\n",
       "      <td>그랜저</td>\n",
       "    </tr>\n",
       "    <tr>\n",
       "      <th>4</th>\n",
       "      <td>2021.5.1</td>\n",
       "      <td>46</td>\n",
       "      <td>[쌍용]체어맨H 뉴클래식 500S 최고급형 [무]</td>\n",
       "      <td>오토</td>\n",
       "      <td>2011</td>\n",
       "      <td>휘발유</td>\n",
       "      <td>145253</td>\n",
       "      <td>검정색</td>\n",
       "      <td>390</td>\n",
       "      <td>체어맨</td>\n",
       "    </tr>\n",
       "    <tr>\n",
       "      <th>...</th>\n",
       "      <td>...</td>\n",
       "      <td>...</td>\n",
       "      <td>...</td>\n",
       "      <td>...</td>\n",
       "      <td>...</td>\n",
       "      <td>...</td>\n",
       "      <td>...</td>\n",
       "      <td>...</td>\n",
       "      <td>...</td>\n",
       "      <td>...</td>\n",
       "    </tr>\n",
       "    <tr>\n",
       "      <th>67111</th>\n",
       "      <td>2022.5.9</td>\n",
       "      <td>24</td>\n",
       "      <td>뉴쏘렌토 2WD 2.5 VGT</td>\n",
       "      <td>오토</td>\n",
       "      <td>2008</td>\n",
       "      <td>경유</td>\n",
       "      <td>224271</td>\n",
       "      <td>검정투톤</td>\n",
       "      <td>220</td>\n",
       "      <td>쏘렌토</td>\n",
       "    </tr>\n",
       "    <tr>\n",
       "      <th>67112</th>\n",
       "      <td>2022.5.9</td>\n",
       "      <td>24</td>\n",
       "      <td>더뉴트랙스 1.4 LT 코어</td>\n",
       "      <td>오토</td>\n",
       "      <td>2019</td>\n",
       "      <td>휘발유</td>\n",
       "      <td>41000</td>\n",
       "      <td>흰색</td>\n",
       "      <td>1390</td>\n",
       "      <td>트랙스</td>\n",
       "    </tr>\n",
       "    <tr>\n",
       "      <th>67113</th>\n",
       "      <td>2022.5.9</td>\n",
       "      <td>17</td>\n",
       "      <td>뉴A6 35 TDI 프리미엄 [무]</td>\n",
       "      <td>오토</td>\n",
       "      <td>2015</td>\n",
       "      <td>경유</td>\n",
       "      <td>129001</td>\n",
       "      <td>흰색</td>\n",
       "      <td>2250</td>\n",
       "      <td>A6</td>\n",
       "    </tr>\n",
       "    <tr>\n",
       "      <th>67114</th>\n",
       "      <td>2022.5.9</td>\n",
       "      <td>38</td>\n",
       "      <td>더 럭셔리 그랜저 Q270 LUXURY 스마트팩</td>\n",
       "      <td>오토</td>\n",
       "      <td>2010</td>\n",
       "      <td>휘발유</td>\n",
       "      <td>110000</td>\n",
       "      <td>흰색</td>\n",
       "      <td>669</td>\n",
       "      <td>그랜저</td>\n",
       "    </tr>\n",
       "    <tr>\n",
       "      <th>67115</th>\n",
       "      <td>2022.5.9</td>\n",
       "      <td>54</td>\n",
       "      <td>쿠퍼D 5도어 기본형 [무]</td>\n",
       "      <td>오토</td>\n",
       "      <td>2018</td>\n",
       "      <td>경유</td>\n",
       "      <td>29005</td>\n",
       "      <td>녹색</td>\n",
       "      <td>2430</td>\n",
       "      <td>쿠퍼</td>\n",
       "    </tr>\n",
       "  </tbody>\n",
       "</table>\n",
       "<p>67116 rows × 10 columns</p>\n",
       "</div>"
      ],
      "text/plain": [
       "            판매일   기간                            차량/세부모델  미션    연식   연료  \\\n",
       "0      2021.5.1  152      [현대]그랜저HG HG300 EXCLUSIVE [무]  오토  2013  휘발유   \n",
       "1      2021.5.1   67  [벤츠]E-클래스(W213) E300 4MATIC 아방가르드  오토  2018  휘발유   \n",
       "2      2021.5.1   47            [재규어]뉴XF 3.0 D 프리미엄 [무]  오토  2012   경유   \n",
       "3      2021.5.1   47             [현대]그랜저IG 2.2 VGT 프리미엄  오토  2017   경유   \n",
       "4      2021.5.1   46        [쌍용]체어맨H 뉴클래식 500S 최고급형 [무]  오토  2011  휘발유   \n",
       "...         ...  ...                                ...  ..   ...  ...   \n",
       "67111  2022.5.9   24                   뉴쏘렌토 2WD 2.5 VGT  오토  2008   경유   \n",
       "67112  2022.5.9   24                    더뉴트랙스 1.4 LT 코어  오토  2019  휘발유   \n",
       "67113  2022.5.9   17                뉴A6 35 TDI 프리미엄 [무]  오토  2015   경유   \n",
       "67114  2022.5.9   38         더 럭셔리 그랜저 Q270 LUXURY 스마트팩  오토  2010  휘발유   \n",
       "67115  2022.5.9   54                    쿠퍼D 5도어 기본형 [무]  오토  2018   경유   \n",
       "\n",
       "         주행거리    색상    가격     차종  \n",
       "0      192814    흰색   880    그랜저  \n",
       "1       16589    흰색  5450  E-클래스  \n",
       "2      180000    흰색   920     XF  \n",
       "3       98092   검정색  9999    그랜저  \n",
       "4      145253   검정색   390    체어맨  \n",
       "...       ...   ...   ...    ...  \n",
       "67111  224271  검정투톤   220    쏘렌토  \n",
       "67112   41000    흰색  1390    트랙스  \n",
       "67113  129001    흰색  2250     A6  \n",
       "67114  110000    흰색   669    그랜저  \n",
       "67115   29005    녹색  2430     쿠퍼  \n",
       "\n",
       "[67116 rows x 10 columns]"
      ]
     },
     "execution_count": 26,
     "metadata": {},
     "output_type": "execute_result"
    }
   ],
   "source": [
    "df"
   ]
  },
  {
   "cell_type": "code",
   "execution_count": 27,
   "id": "64df78c9",
   "metadata": {},
   "outputs": [],
   "source": [
    "grand=df[df['차종']=='E-클래스']"
   ]
  },
  {
   "cell_type": "code",
   "execution_count": 28,
   "id": "b0495d61",
   "metadata": {},
   "outputs": [
    {
     "data": {
      "text/html": [
       "<div>\n",
       "<style scoped>\n",
       "    .dataframe tbody tr th:only-of-type {\n",
       "        vertical-align: middle;\n",
       "    }\n",
       "\n",
       "    .dataframe tbody tr th {\n",
       "        vertical-align: top;\n",
       "    }\n",
       "\n",
       "    .dataframe thead th {\n",
       "        text-align: right;\n",
       "    }\n",
       "</style>\n",
       "<table border=\"1\" class=\"dataframe\">\n",
       "  <thead>\n",
       "    <tr style=\"text-align: right;\">\n",
       "      <th></th>\n",
       "      <th>판매일</th>\n",
       "      <th>기간</th>\n",
       "      <th>차량/세부모델</th>\n",
       "      <th>미션</th>\n",
       "      <th>연식</th>\n",
       "      <th>연료</th>\n",
       "      <th>주행거리</th>\n",
       "      <th>색상</th>\n",
       "      <th>가격</th>\n",
       "      <th>차종</th>\n",
       "    </tr>\n",
       "  </thead>\n",
       "  <tbody>\n",
       "    <tr>\n",
       "      <th>1</th>\n",
       "      <td>2021.5.1</td>\n",
       "      <td>67</td>\n",
       "      <td>[벤츠]E-클래스(W213) E300 4MATIC 아방가르드</td>\n",
       "      <td>오토</td>\n",
       "      <td>2018</td>\n",
       "      <td>휘발유</td>\n",
       "      <td>16589</td>\n",
       "      <td>흰색</td>\n",
       "      <td>5450</td>\n",
       "      <td>E-클래스</td>\n",
       "    </tr>\n",
       "    <tr>\n",
       "      <th>10</th>\n",
       "      <td>2021.5.1</td>\n",
       "      <td>33</td>\n",
       "      <td>[벤츠]E-클래스(W213) E300 4MATIC 아방가르드 [무]</td>\n",
       "      <td>오토</td>\n",
       "      <td>2018</td>\n",
       "      <td>휘발유</td>\n",
       "      <td>29000</td>\n",
       "      <td>흰색</td>\n",
       "      <td>5290</td>\n",
       "      <td>E-클래스</td>\n",
       "    </tr>\n",
       "    <tr>\n",
       "      <th>33</th>\n",
       "      <td>2021.5.2</td>\n",
       "      <td>9</td>\n",
       "      <td>[벤츠]뉴E-클래스 E200 CGI</td>\n",
       "      <td>오토</td>\n",
       "      <td>2014</td>\n",
       "      <td>휘발유</td>\n",
       "      <td>129000</td>\n",
       "      <td>은색</td>\n",
       "      <td>1490</td>\n",
       "      <td>E-클래스</td>\n",
       "    </tr>\n",
       "    <tr>\n",
       "      <th>53</th>\n",
       "      <td>2021.5.3</td>\n",
       "      <td>49</td>\n",
       "      <td>[벤츠]E-클래스(W213) E220D 4MATIC 아방가르드 [무]</td>\n",
       "      <td>오토</td>\n",
       "      <td>2018</td>\n",
       "      <td>경유</td>\n",
       "      <td>143213</td>\n",
       "      <td>흰색</td>\n",
       "      <td>3490</td>\n",
       "      <td>E-클래스</td>\n",
       "    </tr>\n",
       "    <tr>\n",
       "      <th>261</th>\n",
       "      <td>2021.5.3</td>\n",
       "      <td>39</td>\n",
       "      <td>[벤츠]E-클래스(W213) E300 4MATIC 아방가르드 [무]</td>\n",
       "      <td>오토</td>\n",
       "      <td>2017</td>\n",
       "      <td>휘발유</td>\n",
       "      <td>49864</td>\n",
       "      <td>검정색</td>\n",
       "      <td>11</td>\n",
       "      <td>E-클래스</td>\n",
       "    </tr>\n",
       "    <tr>\n",
       "      <th>...</th>\n",
       "      <td>...</td>\n",
       "      <td>...</td>\n",
       "      <td>...</td>\n",
       "      <td>...</td>\n",
       "      <td>...</td>\n",
       "      <td>...</td>\n",
       "      <td>...</td>\n",
       "      <td>...</td>\n",
       "      <td>...</td>\n",
       "      <td>...</td>\n",
       "    </tr>\n",
       "    <tr>\n",
       "      <th>66897</th>\n",
       "      <td>2022.5.9</td>\n",
       "      <td>33</td>\n",
       "      <td>E-클래스(W213) E220D 아방가르드 [무]</td>\n",
       "      <td>오토</td>\n",
       "      <td>2016</td>\n",
       "      <td>경유</td>\n",
       "      <td>181007</td>\n",
       "      <td>검정색</td>\n",
       "      <td>2790</td>\n",
       "      <td>E-클래스</td>\n",
       "    </tr>\n",
       "    <tr>\n",
       "      <th>66907</th>\n",
       "      <td>2022.5.9</td>\n",
       "      <td>24</td>\n",
       "      <td>뉴E-클래스 E250 블루텍 4MATIC 아방가르드 [무]</td>\n",
       "      <td>오토</td>\n",
       "      <td>2016</td>\n",
       "      <td>경유</td>\n",
       "      <td>133636</td>\n",
       "      <td>검정색</td>\n",
       "      <td>1990</td>\n",
       "      <td>E-클래스</td>\n",
       "    </tr>\n",
       "    <tr>\n",
       "      <th>66909</th>\n",
       "      <td>2022.5.9</td>\n",
       "      <td>41</td>\n",
       "      <td>GLE-클래스(V167) GLE400d 4MATIC 쿠페 [무]</td>\n",
       "      <td>오토</td>\n",
       "      <td>2021</td>\n",
       "      <td>경유</td>\n",
       "      <td>11000</td>\n",
       "      <td>다크그레이</td>\n",
       "      <td>10900</td>\n",
       "      <td>E-클래스</td>\n",
       "    </tr>\n",
       "    <tr>\n",
       "      <th>67044</th>\n",
       "      <td>2022.5.9</td>\n",
       "      <td>63</td>\n",
       "      <td>뉴E-클래스 E300 아방가르드</td>\n",
       "      <td>오토</td>\n",
       "      <td>2014</td>\n",
       "      <td>휘발유</td>\n",
       "      <td>78432</td>\n",
       "      <td>검정색</td>\n",
       "      <td>1690</td>\n",
       "      <td>E-클래스</td>\n",
       "    </tr>\n",
       "    <tr>\n",
       "      <th>67054</th>\n",
       "      <td>2022.5.9</td>\n",
       "      <td>46</td>\n",
       "      <td>뉴E-클래스 E220 CDI 아방가르드 [무]</td>\n",
       "      <td>오토</td>\n",
       "      <td>2012</td>\n",
       "      <td>경유</td>\n",
       "      <td>185366</td>\n",
       "      <td>다크그레이</td>\n",
       "      <td>920</td>\n",
       "      <td>E-클래스</td>\n",
       "    </tr>\n",
       "  </tbody>\n",
       "</table>\n",
       "<p>728 rows × 10 columns</p>\n",
       "</div>"
      ],
      "text/plain": [
       "            판매일  기간                                 차량/세부모델  미션    연식   연료  \\\n",
       "1      2021.5.1  67       [벤츠]E-클래스(W213) E300 4MATIC 아방가르드  오토  2018  휘발유   \n",
       "10     2021.5.1  33   [벤츠]E-클래스(W213) E300 4MATIC 아방가르드 [무]  오토  2018  휘발유   \n",
       "33     2021.5.2   9                     [벤츠]뉴E-클래스 E200 CGI  오토  2014  휘발유   \n",
       "53     2021.5.3  49  [벤츠]E-클래스(W213) E220D 4MATIC 아방가르드 [무]  오토  2018   경유   \n",
       "261    2021.5.3  39   [벤츠]E-클래스(W213) E300 4MATIC 아방가르드 [무]  오토  2017  휘발유   \n",
       "...         ...  ..                                     ...  ..   ...  ...   \n",
       "66897  2022.5.9  33             E-클래스(W213) E220D 아방가르드 [무]  오토  2016   경유   \n",
       "66907  2022.5.9  24        뉴E-클래스 E250 블루텍 4MATIC 아방가르드 [무]  오토  2016   경유   \n",
       "66909  2022.5.9  41     GLE-클래스(V167) GLE400d 4MATIC 쿠페 [무]  오토  2021   경유   \n",
       "67044  2022.5.9  63                       뉴E-클래스 E300 아방가르드  오토  2014  휘발유   \n",
       "67054  2022.5.9  46               뉴E-클래스 E220 CDI 아방가르드 [무]  오토  2012   경유   \n",
       "\n",
       "         주행거리     색상     가격     차종  \n",
       "1       16589     흰색   5450  E-클래스  \n",
       "10      29000     흰색   5290  E-클래스  \n",
       "33     129000     은색   1490  E-클래스  \n",
       "53     143213     흰색   3490  E-클래스  \n",
       "261     49864    검정색     11  E-클래스  \n",
       "...       ...    ...    ...    ...  \n",
       "66897  181007    검정색   2790  E-클래스  \n",
       "66907  133636    검정색   1990  E-클래스  \n",
       "66909   11000  다크그레이  10900  E-클래스  \n",
       "67044   78432    검정색   1690  E-클래스  \n",
       "67054  185366  다크그레이    920  E-클래스  \n",
       "\n",
       "[728 rows x 10 columns]"
      ]
     },
     "execution_count": 28,
     "metadata": {},
     "output_type": "execute_result"
    }
   ],
   "source": [
    "grand"
   ]
  },
  {
   "cell_type": "code",
   "execution_count": 29,
   "id": "e5fe337c",
   "metadata": {},
   "outputs": [],
   "source": [
    "tmp=list(grand.groupby('판매일').mean().index)"
   ]
  },
  {
   "cell_type": "code",
   "execution_count": 30,
   "id": "d4cfc1c1",
   "metadata": {},
   "outputs": [
    {
     "data": {
      "text/plain": [
       "판매일        object\n",
       "기간          int64\n",
       "차량/세부모델    object\n",
       "미션         object\n",
       "연식          int64\n",
       "연료         object\n",
       "주행거리        int64\n",
       "색상         object\n",
       "가격          int64\n",
       "차종         object\n",
       "dtype: object"
      ]
     },
     "execution_count": 30,
     "metadata": {},
     "output_type": "execute_result"
    }
   ],
   "source": [
    "grand.dtypes"
   ]
  },
  {
   "cell_type": "code",
   "execution_count": 31,
   "id": "dcd8ec0c",
   "metadata": {},
   "outputs": [
    {
     "name": "stderr",
     "output_type": "stream",
     "text": [
      "/var/folders/cx/8fgbz3112jxdssn1ym77_0zc0000gn/T/ipykernel_86054/1263492065.py:1: SettingWithCopyWarning: \n",
      "A value is trying to be set on a copy of a slice from a DataFrame.\n",
      "Try using .loc[row_indexer,col_indexer] = value instead\n",
      "\n",
      "See the caveats in the documentation: https://pandas.pydata.org/pandas-docs/stable/user_guide/indexing.html#returning-a-view-versus-a-copy\n",
      "  grand['판매일']=pd.to_datetime(grand['판매일'])\n"
     ]
    }
   ],
   "source": [
    "grand['판매일']=pd.to_datetime(grand['판매일'])"
   ]
  },
  {
   "cell_type": "code",
   "execution_count": 32,
   "id": "8854a67f",
   "metadata": {
    "scrolled": false
   },
   "outputs": [],
   "source": [
    "sample=grand.groupby('판매일').mean().sort_values(by='판매일',ascending=True)"
   ]
  },
  {
   "cell_type": "code",
   "execution_count": 33,
   "id": "4246ec92",
   "metadata": {},
   "outputs": [
    {
     "data": {
      "text/plain": [
       "판매일\n",
       "2021-05-01    2\n",
       "2021-05-02    1\n",
       "2021-05-03    3\n",
       "2021-05-04    2\n",
       "2021-05-06    3\n",
       "             ..\n",
       "2022-05-02    5\n",
       "2022-05-03    2\n",
       "2022-05-04    3\n",
       "2022-05-06    1\n",
       "2022-05-09    5\n",
       "Name: 기간, Length: 239, dtype: int64"
      ]
     },
     "execution_count": 33,
     "metadata": {},
     "output_type": "execute_result"
    }
   ],
   "source": [
    "grand.groupby('판매일').count()['기간']"
   ]
  },
  {
   "cell_type": "code",
   "execution_count": 34,
   "id": "aa72cba9",
   "metadata": {},
   "outputs": [],
   "source": [
    "sample['갯수']=grand.groupby('판매일').count()['기간']"
   ]
  },
  {
   "cell_type": "code",
   "execution_count": 35,
   "id": "944c5660",
   "metadata": {
    "scrolled": false
   },
   "outputs": [
    {
     "data": {
      "text/html": [
       "<div>\n",
       "<style scoped>\n",
       "    .dataframe tbody tr th:only-of-type {\n",
       "        vertical-align: middle;\n",
       "    }\n",
       "\n",
       "    .dataframe tbody tr th {\n",
       "        vertical-align: top;\n",
       "    }\n",
       "\n",
       "    .dataframe thead th {\n",
       "        text-align: right;\n",
       "    }\n",
       "</style>\n",
       "<table border=\"1\" class=\"dataframe\">\n",
       "  <thead>\n",
       "    <tr style=\"text-align: right;\">\n",
       "      <th></th>\n",
       "      <th>기간</th>\n",
       "      <th>연식</th>\n",
       "      <th>주행거리</th>\n",
       "      <th>가격</th>\n",
       "      <th>갯수</th>\n",
       "    </tr>\n",
       "    <tr>\n",
       "      <th>판매일</th>\n",
       "      <th></th>\n",
       "      <th></th>\n",
       "      <th></th>\n",
       "      <th></th>\n",
       "      <th></th>\n",
       "    </tr>\n",
       "  </thead>\n",
       "  <tbody>\n",
       "    <tr>\n",
       "      <th>2021-05-01</th>\n",
       "      <td>50.000000</td>\n",
       "      <td>2018.000000</td>\n",
       "      <td>22794.500000</td>\n",
       "      <td>5370.000000</td>\n",
       "      <td>2</td>\n",
       "    </tr>\n",
       "    <tr>\n",
       "      <th>2021-05-02</th>\n",
       "      <td>9.000000</td>\n",
       "      <td>2014.000000</td>\n",
       "      <td>129000.000000</td>\n",
       "      <td>1490.000000</td>\n",
       "      <td>1</td>\n",
       "    </tr>\n",
       "    <tr>\n",
       "      <th>2021-05-03</th>\n",
       "      <td>78.000000</td>\n",
       "      <td>2016.000000</td>\n",
       "      <td>123589.666667</td>\n",
       "      <td>1480.333333</td>\n",
       "      <td>3</td>\n",
       "    </tr>\n",
       "    <tr>\n",
       "      <th>2021-05-04</th>\n",
       "      <td>53.000000</td>\n",
       "      <td>2017.000000</td>\n",
       "      <td>52677.500000</td>\n",
       "      <td>3850.000000</td>\n",
       "      <td>2</td>\n",
       "    </tr>\n",
       "    <tr>\n",
       "      <th>2021-05-06</th>\n",
       "      <td>42.666667</td>\n",
       "      <td>2018.333333</td>\n",
       "      <td>66935.000000</td>\n",
       "      <td>4870.000000</td>\n",
       "      <td>3</td>\n",
       "    </tr>\n",
       "    <tr>\n",
       "      <th>...</th>\n",
       "      <td>...</td>\n",
       "      <td>...</td>\n",
       "      <td>...</td>\n",
       "      <td>...</td>\n",
       "      <td>...</td>\n",
       "    </tr>\n",
       "    <tr>\n",
       "      <th>2022-05-02</th>\n",
       "      <td>266.000000</td>\n",
       "      <td>2013.000000</td>\n",
       "      <td>112620.600000</td>\n",
       "      <td>2360.000000</td>\n",
       "      <td>5</td>\n",
       "    </tr>\n",
       "    <tr>\n",
       "      <th>2022-05-03</th>\n",
       "      <td>37.000000</td>\n",
       "      <td>2016.000000</td>\n",
       "      <td>76917.500000</td>\n",
       "      <td>3400.000000</td>\n",
       "      <td>2</td>\n",
       "    </tr>\n",
       "    <tr>\n",
       "      <th>2022-05-04</th>\n",
       "      <td>88.333333</td>\n",
       "      <td>2014.333333</td>\n",
       "      <td>99715.666667</td>\n",
       "      <td>1370.000000</td>\n",
       "      <td>3</td>\n",
       "    </tr>\n",
       "    <tr>\n",
       "      <th>2022-05-06</th>\n",
       "      <td>43.000000</td>\n",
       "      <td>2020.000000</td>\n",
       "      <td>11057.000000</td>\n",
       "      <td>7400.000000</td>\n",
       "      <td>1</td>\n",
       "    </tr>\n",
       "    <tr>\n",
       "      <th>2022-05-09</th>\n",
       "      <td>41.400000</td>\n",
       "      <td>2015.800000</td>\n",
       "      <td>117888.200000</td>\n",
       "      <td>3658.000000</td>\n",
       "      <td>5</td>\n",
       "    </tr>\n",
       "  </tbody>\n",
       "</table>\n",
       "<p>239 rows × 5 columns</p>\n",
       "</div>"
      ],
      "text/plain": [
       "                    기간           연식           주행거리           가격  갯수\n",
       "판매일                                                                \n",
       "2021-05-01   50.000000  2018.000000   22794.500000  5370.000000   2\n",
       "2021-05-02    9.000000  2014.000000  129000.000000  1490.000000   1\n",
       "2021-05-03   78.000000  2016.000000  123589.666667  1480.333333   3\n",
       "2021-05-04   53.000000  2017.000000   52677.500000  3850.000000   2\n",
       "2021-05-06   42.666667  2018.333333   66935.000000  4870.000000   3\n",
       "...                ...          ...            ...          ...  ..\n",
       "2022-05-02  266.000000  2013.000000  112620.600000  2360.000000   5\n",
       "2022-05-03   37.000000  2016.000000   76917.500000  3400.000000   2\n",
       "2022-05-04   88.333333  2014.333333   99715.666667  1370.000000   3\n",
       "2022-05-06   43.000000  2020.000000   11057.000000  7400.000000   1\n",
       "2022-05-09   41.400000  2015.800000  117888.200000  3658.000000   5\n",
       "\n",
       "[239 rows x 5 columns]"
      ]
     },
     "execution_count": 35,
     "metadata": {},
     "output_type": "execute_result"
    }
   ],
   "source": [
    "sample"
   ]
  },
  {
   "cell_type": "code",
   "execution_count": 36,
   "id": "ed8c2ed0",
   "metadata": {},
   "outputs": [],
   "source": [
    "import numpy as np,pandas as pd, matplotlib.pyplot as plt\n",
    "from sklearn.model_selection import train_test_split\n",
    "from sklearn.preprocessing import MinMaxScaler"
   ]
  },
  {
   "cell_type": "code",
   "execution_count": 37,
   "id": "8989f75d",
   "metadata": {},
   "outputs": [],
   "source": [
    "values=sample.values"
   ]
  },
  {
   "cell_type": "code",
   "execution_count": 38,
   "id": "c0478439",
   "metadata": {},
   "outputs": [],
   "source": [
    "scaler=MinMaxScaler()"
   ]
  },
  {
   "cell_type": "code",
   "execution_count": 39,
   "id": "9db54bcb",
   "metadata": {},
   "outputs": [],
   "source": [
    "values_scaled=scaler.fit_transform(values)"
   ]
  },
  {
   "cell_type": "code",
   "execution_count": 40,
   "id": "d77c3bd9",
   "metadata": {},
   "outputs": [],
   "source": [
    "seq_length=7"
   ]
  },
  {
   "cell_type": "code",
   "execution_count": 41,
   "id": "9eeea8ad",
   "metadata": {},
   "outputs": [],
   "source": [
    "x,y=[],[]\n",
    "for i in range(0,len(values)-seq_length):\n",
    "    start,end=i,i+seq_length\n",
    "    x.append(values_scaled[start:end])\n",
    "    y.append(values_scaled[end,-2])"
   ]
  },
  {
   "cell_type": "code",
   "execution_count": 42,
   "id": "d2e89c53",
   "metadata": {},
   "outputs": [],
   "source": [
    "x,y=np.array(x),np.array(y)"
   ]
  },
  {
   "cell_type": "code",
   "execution_count": 43,
   "id": "73532ddb",
   "metadata": {},
   "outputs": [],
   "source": [
    "x_train,x_test,y_train,y_test=train_test_split(x,y,test_size=0.2,shuffle=False,random_state=0)"
   ]
  },
  {
   "cell_type": "code",
   "execution_count": 44,
   "id": "44236345",
   "metadata": {
    "scrolled": false
   },
   "outputs": [
    {
     "name": "stdout",
     "output_type": "stream",
     "text": [
      "Model: \"sequential_1\"\n",
      "_________________________________________________________________\n",
      " Layer (type)                Output Shape              Param #   \n",
      "=================================================================\n",
      " lstm_1 (LSTM)               (None, 50)                11200     \n",
      "                                                                 \n",
      " dropout_1 (Dropout)         (None, 50)                0         \n",
      "                                                                 \n",
      " dense_1 (Dense)             (None, 1)                 51        \n",
      "                                                                 \n",
      "=================================================================\n",
      "Total params: 11,251\n",
      "Trainable params: 11,251\n",
      "Non-trainable params: 0\n",
      "_________________________________________________________________\n"
     ]
    }
   ],
   "source": [
    "model=tf.keras.models.Sequential()\n",
    "model.add(tf.keras.layers.LSTM(50,input_shape=(seq_length,5),return_sequences=False))\n",
    "model.add(tf.keras.layers.Dropout(0.3))\n",
    "model.add(tf.keras.layers.Dense(1))\n",
    "\n",
    "model.compile(loss='mse',optimizer='adam',metrics=['mae'])\n",
    "model.summary()"
   ]
  },
  {
   "cell_type": "code",
   "execution_count": 45,
   "id": "aec68372",
   "metadata": {},
   "outputs": [
    {
     "name": "stdout",
     "output_type": "stream",
     "text": [
      "Epoch 1/50\n",
      "8/8 - 1s - loss: 0.0116 - mae: 0.0763 - val_loss: 0.0032 - val_mae: 0.0406 - 662ms/epoch - 83ms/step\n",
      "Epoch 2/50\n",
      "8/8 - 0s - loss: 0.0092 - mae: 0.0662 - val_loss: 0.0033 - val_mae: 0.0383 - 25ms/epoch - 3ms/step\n",
      "Epoch 3/50\n",
      "8/8 - 0s - loss: 0.0096 - mae: 0.0643 - val_loss: 0.0035 - val_mae: 0.0437 - 21ms/epoch - 3ms/step\n",
      "Epoch 4/50\n",
      "8/8 - 0s - loss: 0.0081 - mae: 0.0594 - val_loss: 0.0031 - val_mae: 0.0375 - 21ms/epoch - 3ms/step\n",
      "Epoch 5/50\n",
      "8/8 - 0s - loss: 0.0082 - mae: 0.0607 - val_loss: 0.0030 - val_mae: 0.0374 - 21ms/epoch - 3ms/step\n",
      "Epoch 6/50\n",
      "8/8 - 0s - loss: 0.0085 - mae: 0.0602 - val_loss: 0.0033 - val_mae: 0.0424 - 21ms/epoch - 3ms/step\n",
      "Epoch 7/50\n",
      "8/8 - 0s - loss: 0.0086 - mae: 0.0593 - val_loss: 0.0031 - val_mae: 0.0404 - 21ms/epoch - 3ms/step\n",
      "Epoch 8/50\n",
      "8/8 - 0s - loss: 0.0082 - mae: 0.0602 - val_loss: 0.0031 - val_mae: 0.0406 - 21ms/epoch - 3ms/step\n",
      "Epoch 9/50\n",
      "8/8 - 0s - loss: 0.0084 - mae: 0.0597 - val_loss: 0.0031 - val_mae: 0.0375 - 21ms/epoch - 3ms/step\n",
      "Epoch 10/50\n",
      "8/8 - 0s - loss: 0.0069 - mae: 0.0536 - val_loss: 0.0037 - val_mae: 0.0463 - 21ms/epoch - 3ms/step\n",
      "Epoch 11/50\n",
      "8/8 - 0s - loss: 0.0077 - mae: 0.0562 - val_loss: 0.0030 - val_mae: 0.0372 - 22ms/epoch - 3ms/step\n",
      "Epoch 12/50\n",
      "8/8 - 0s - loss: 0.0072 - mae: 0.0544 - val_loss: 0.0030 - val_mae: 0.0374 - 21ms/epoch - 3ms/step\n",
      "Epoch 13/50\n",
      "8/8 - 0s - loss: 0.0076 - mae: 0.0564 - val_loss: 0.0035 - val_mae: 0.0441 - 22ms/epoch - 3ms/step\n",
      "Epoch 14/50\n",
      "8/8 - 0s - loss: 0.0071 - mae: 0.0541 - val_loss: 0.0030 - val_mae: 0.0372 - 22ms/epoch - 3ms/step\n",
      "Epoch 15/50\n",
      "8/8 - 0s - loss: 0.0074 - mae: 0.0538 - val_loss: 0.0029 - val_mae: 0.0373 - 21ms/epoch - 3ms/step\n",
      "Epoch 16/50\n",
      "8/8 - 0s - loss: 0.0066 - mae: 0.0512 - val_loss: 0.0032 - val_mae: 0.0419 - 21ms/epoch - 3ms/step\n",
      "Epoch 17/50\n",
      "8/8 - 0s - loss: 0.0069 - mae: 0.0508 - val_loss: 0.0029 - val_mae: 0.0373 - 28ms/epoch - 4ms/step\n",
      "Epoch 18/50\n",
      "8/8 - 0s - loss: 0.0077 - mae: 0.0529 - val_loss: 0.0030 - val_mae: 0.0388 - 30ms/epoch - 4ms/step\n",
      "Epoch 19/50\n",
      "8/8 - 0s - loss: 0.0075 - mae: 0.0537 - val_loss: 0.0030 - val_mae: 0.0388 - 22ms/epoch - 3ms/step\n",
      "Epoch 20/50\n",
      "8/8 - 0s - loss: 0.0077 - mae: 0.0570 - val_loss: 0.0030 - val_mae: 0.0392 - 22ms/epoch - 3ms/step\n",
      "Epoch 21/50\n",
      "8/8 - 0s - loss: 0.0075 - mae: 0.0536 - val_loss: 0.0031 - val_mae: 0.0408 - 21ms/epoch - 3ms/step\n",
      "Epoch 22/50\n",
      "8/8 - 0s - loss: 0.0077 - mae: 0.0564 - val_loss: 0.0031 - val_mae: 0.0410 - 21ms/epoch - 3ms/step\n",
      "Epoch 23/50\n",
      "8/8 - 0s - loss: 0.0071 - mae: 0.0524 - val_loss: 0.0030 - val_mae: 0.0372 - 22ms/epoch - 3ms/step\n",
      "Epoch 24/50\n",
      "8/8 - 0s - loss: 0.0071 - mae: 0.0536 - val_loss: 0.0036 - val_mae: 0.0462 - 20ms/epoch - 3ms/step\n",
      "Epoch 25/50\n",
      "8/8 - 0s - loss: 0.0071 - mae: 0.0527 - val_loss: 0.0029 - val_mae: 0.0390 - 23ms/epoch - 3ms/step\n",
      "Epoch 26/50\n",
      "8/8 - 0s - loss: 0.0070 - mae: 0.0532 - val_loss: 0.0029 - val_mae: 0.0387 - 22ms/epoch - 3ms/step\n",
      "Epoch 27/50\n",
      "8/8 - 0s - loss: 0.0066 - mae: 0.0508 - val_loss: 0.0030 - val_mae: 0.0407 - 20ms/epoch - 3ms/step\n",
      "Epoch 28/50\n",
      "8/8 - 0s - loss: 0.0071 - mae: 0.0527 - val_loss: 0.0029 - val_mae: 0.0391 - 21ms/epoch - 3ms/step\n",
      "Epoch 29/50\n",
      "8/8 - 0s - loss: 0.0072 - mae: 0.0525 - val_loss: 0.0029 - val_mae: 0.0391 - 26ms/epoch - 3ms/step\n",
      "Epoch 30/50\n",
      "8/8 - 0s - loss: 0.0070 - mae: 0.0493 - val_loss: 0.0029 - val_mae: 0.0373 - 20ms/epoch - 3ms/step\n",
      "Epoch 31/50\n",
      "8/8 - 0s - loss: 0.0068 - mae: 0.0518 - val_loss: 0.0030 - val_mae: 0.0404 - 20ms/epoch - 3ms/step\n",
      "Epoch 32/50\n",
      "8/8 - 0s - loss: 0.0071 - mae: 0.0540 - val_loss: 0.0031 - val_mae: 0.0415 - 22ms/epoch - 3ms/step\n",
      "Epoch 33/50\n",
      "8/8 - 0s - loss: 0.0069 - mae: 0.0500 - val_loss: 0.0029 - val_mae: 0.0373 - 20ms/epoch - 3ms/step\n",
      "Epoch 34/50\n",
      "8/8 - 0s - loss: 0.0068 - mae: 0.0489 - val_loss: 0.0030 - val_mae: 0.0402 - 20ms/epoch - 3ms/step\n",
      "Epoch 35/50\n",
      "8/8 - 0s - loss: 0.0070 - mae: 0.0518 - val_loss: 0.0030 - val_mae: 0.0407 - 21ms/epoch - 3ms/step\n",
      "Epoch 36/50\n",
      "8/8 - 0s - loss: 0.0066 - mae: 0.0495 - val_loss: 0.0029 - val_mae: 0.0385 - 21ms/epoch - 3ms/step\n",
      "Epoch 37/50\n",
      "8/8 - 0s - loss: 0.0067 - mae: 0.0509 - val_loss: 0.0031 - val_mae: 0.0418 - 21ms/epoch - 3ms/step\n",
      "Epoch 38/50\n",
      "8/8 - 0s - loss: 0.0067 - mae: 0.0534 - val_loss: 0.0030 - val_mae: 0.0402 - 21ms/epoch - 3ms/step\n",
      "Epoch 39/50\n",
      "8/8 - 0s - loss: 0.0071 - mae: 0.0516 - val_loss: 0.0029 - val_mae: 0.0374 - 21ms/epoch - 3ms/step\n",
      "Epoch 40/50\n",
      "8/8 - 0s - loss: 0.0071 - mae: 0.0512 - val_loss: 0.0030 - val_mae: 0.0406 - 20ms/epoch - 3ms/step\n",
      "Epoch 41/50\n",
      "8/8 - 0s - loss: 0.0066 - mae: 0.0490 - val_loss: 0.0029 - val_mae: 0.0389 - 20ms/epoch - 3ms/step\n",
      "Epoch 42/50\n",
      "8/8 - 0s - loss: 0.0070 - mae: 0.0505 - val_loss: 0.0028 - val_mae: 0.0380 - 21ms/epoch - 3ms/step\n",
      "Epoch 43/50\n",
      "8/8 - 0s - loss: 0.0068 - mae: 0.0500 - val_loss: 0.0029 - val_mae: 0.0399 - 21ms/epoch - 3ms/step\n",
      "Epoch 44/50\n",
      "8/8 - 0s - loss: 0.0072 - mae: 0.0563 - val_loss: 0.0031 - val_mae: 0.0418 - 21ms/epoch - 3ms/step\n",
      "Epoch 45/50\n",
      "8/8 - 0s - loss: 0.0071 - mae: 0.0514 - val_loss: 0.0028 - val_mae: 0.0374 - 21ms/epoch - 3ms/step\n",
      "Epoch 46/50\n",
      "8/8 - 0s - loss: 0.0063 - mae: 0.0478 - val_loss: 0.0029 - val_mae: 0.0395 - 22ms/epoch - 3ms/step\n",
      "Epoch 47/50\n",
      "8/8 - 0s - loss: 0.0068 - mae: 0.0533 - val_loss: 0.0029 - val_mae: 0.0400 - 20ms/epoch - 3ms/step\n",
      "Epoch 48/50\n",
      "8/8 - 0s - loss: 0.0065 - mae: 0.0494 - val_loss: 0.0029 - val_mae: 0.0393 - 21ms/epoch - 3ms/step\n",
      "Epoch 49/50\n",
      "8/8 - 0s - loss: 0.0065 - mae: 0.0491 - val_loss: 0.0029 - val_mae: 0.0389 - 22ms/epoch - 3ms/step\n",
      "Epoch 50/50\n",
      "8/8 - 0s - loss: 0.0068 - mae: 0.0510 - val_loss: 0.0029 - val_mae: 0.0400 - 22ms/epoch - 3ms/step\n"
     ]
    }
   ],
   "source": [
    "history=model.fit(x_train,y_train,epochs=50,batch_size=20,validation_split=0.2,verbose=2)"
   ]
  },
  {
   "cell_type": "code",
   "execution_count": 46,
   "id": "612f96e3",
   "metadata": {},
   "outputs": [
    {
     "name": "stdout",
     "output_type": "stream",
     "text": [
      "dict_keys(['loss', 'mae', 'val_loss', 'val_mae'])\n"
     ]
    },
    {
     "data": {
      "text/plain": [
       "<matplotlib.legend.Legend at 0x16c06dd80>"
      ]
     },
     "execution_count": 46,
     "metadata": {},
     "output_type": "execute_result"
    },
    {
     "data": {
      "image/png": "[encoded data removed]",
      "text/plain": [
       "<Figure size 1080x360 with 2 Axes>"
      ]
     },
     "metadata": {
      "needs_background": "light"
     },
     "output_type": "display_data"
    }
   ],
   "source": [
    "print(history.history.keys())\n",
    "mae=history.history['mae']\n",
    "val_mae=history.history['val_mae']\n",
    "loss=history.history['loss']\n",
    "val_loss=history.history['val_loss']\n",
    "\n",
    "epochs=range(1, len(loss)+1)\n",
    "\n",
    "plt.figure(figsize=(15,5))\n",
    "plt.subplot(1,2,1)\n",
    "plt.plot(epochs,loss,label='Training loss')\n",
    "plt.plot(epochs,val_loss,label='Validation loss')\n",
    "plt.title('Training and validation loss')\n",
    "plt.legend()\n",
    "\n",
    "plt.subplot(1,2,2)\n",
    "plt.plot(epochs,mae,label='Training MAE')\n",
    "plt.plot(epochs,val_mae,label='Validation MAE')\n",
    "plt.title('Training and validation MAE')\n",
    "plt.legend()"
   ]
  },
  {
   "cell_type": "code",
   "execution_count": 49,
   "id": "c8e36823",
   "metadata": {},
   "outputs": [
    {
     "data": {
      "text/plain": [
       "<matplotlib.legend.Legend at 0x175ec6da0>"
      ]
     },
     "execution_count": 49,
     "metadata": {},
     "output_type": "execute_result"
    },
    {
     "data": {
      "image/png": "[encoded data removed]",
      "text/plain": [
       "<Figure size 432x288 with 1 Axes>"
      ]
     },
     "metadata": {
      "needs_background": "light"
     },
     "output_type": "display_data"
    }
   ],
   "source": [
    "train_predict=model.predict(x_train)\n",
    "\n",
    "plt.plot(y_train,label='train_real')\n",
    "plt.plot(train_predict,label='train predicted')\n",
    "plt.title('train data prediction')\n",
    "plt.legend()"
   ]
  },
  {
   "cell_type": "code",
   "execution_count": 50,
   "id": "21696ec3",
   "metadata": {},
   "outputs": [
    {
     "data": {
      "text/plain": [
       "Text(0.5, 1.0, 'test data prediction')"
      ]
     },
     "execution_count": 50,
     "metadata": {},
     "output_type": "execute_result"
    },
    {
     "data": {
      "image/png": "[encoded data removed]",
      "text/plain": [
       "<Figure size 432x288 with 1 Axes>"
      ]
     },
     "metadata": {
      "needs_background": "light"
     },
     "output_type": "display_data"
    }
   ],
   "source": [
    "test_predict=model.predict(x_test)\n",
    "\n",
    "plt.plot(y_test,label='test_real')\n",
    "plt.plot(test_predict,label='Test predicted')\n",
    "plt.legend()\n",
    "plt.title('test data prediction')"
   ]
  },
  {
   "cell_type": "code",
   "execution_count": null,
   "id": "85327993",
   "metadata": {},
   "outputs": [],
   "source": []
  },
  {
   "cell_type": "code",
   "execution_count": null,
   "id": "d1a9f95b",
   "metadata": {},
   "outputs": [],
   "source": []
  }
 ],
 "metadata": {
  "kernelspec": {
   "display_name": "Python 3 (ipykernel)",
   "language": "python",
   "name": "python3"
  },
  "language_info": {
   "codemirror_mode": {
    "name": "ipython",
    "version": 3
   },
   "file_extension": ".py",
   "mimetype": "text/x-python",
   "name": "python",
   "nbconvert_exporter": "python",
   "pygments_lexer": "ipython3",
   "version": "3.10.4"
  }
 },
 "nbformat": 4,
 "nbformat_minor": 5
}
